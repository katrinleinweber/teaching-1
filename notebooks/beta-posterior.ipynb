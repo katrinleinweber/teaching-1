{
 "cells": [
  {
   "cell_type": "code",
   "execution_count": null,
   "metadata": {},
   "outputs": [],
   "source": [
    "%matplotlib inline\n",
    "%config InlineBackend.figure_format = 'svg'\n",
    "\n",
    "from ipywidgets import interact\n",
    "import matplotlib.pyplot as plt\n",
    "import numpy as np\n",
    "import seaborn as sns\n",
    "\n",
    "x = np.linspace(0., 1, 100)\n",
    "\n",
    "def plot(heads, tails, alpha):\n",
    "    y = x**(heads+alpha-1)*(1-x)**(tails+alpha-1)\n",
    "    y /= max(y)\n",
    "    plt.plot(x, y)\n",
    "    plt.ylim(0, 1.1)\n",
    "    plt.xlabel(\"Probability of next flip being heads\")\n",
    "\n",
    "interact(plot,\n",
    "         heads=(0, 8),\n",
    "         tails=(0, 8),\n",
    "         alpha=(1, 4.0));"
   ]
  },
  {
   "cell_type": "code",
   "execution_count": null,
   "metadata": {},
   "outputs": [],
   "source": []
  }
 ],
 "metadata": {
  "kernelspec": {
   "display_name": "Python [conda env:anaconda2]",
   "language": "python",
   "name": "conda-env-anaconda2-py"
  },
  "language_info": {
   "codemirror_mode": {
    "name": "ipython",
    "version": 2
   },
   "file_extension": ".py",
   "mimetype": "text/x-python",
   "name": "python",
   "nbconvert_exporter": "python",
   "pygments_lexer": "ipython2",
   "version": "2.7.14"
  }
 },
 "nbformat": 4,
 "nbformat_minor": 1
}
